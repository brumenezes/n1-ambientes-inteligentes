{
  "cells": [
    {
      "cell_type": "code",
      "execution_count": 1,
      "metadata": {
        "colab": {
          "base_uri": "https://localhost:8080/",
          "height": 174
        },
        "id": "LJXRHsGpAC6z",
        "outputId": "c8e0bdd8-68be-43be-fa61-4fece52930f5"
      },
      "outputs": [
        {
          "data": {
            "text/plain": [
              "'\\nAutor: Bruna Menezes\\nRA: 082220031\\nData: 10/03/2025\\n\\nQuestão 1:\\n\\n(a) - O conjunto de dados ml-latest-small traz informações sobre gostos de filmes, com avaliações e tags feitas pelos usuários do MovieLens, um serviço de recomendação. \\nEle tem 100.836 avaliações de filmes com notas de 1 a 5 estrelas, 3683 tags criadas pelos usuários e 9742 filmes avaliados entre 29 de março de 1996 e 24 de setembro de 2018, \\npor 610 pessoas nsse periodo. Foram incluidos apenas usuários com no mínimo 20 filmes avaliados.\\nOs dados estão organizados nos arquivos gerados em 26/09/2018:\\n* links.csv \\n* movies.csv \\n* ratings.csv \\n* tags.csv\\n\\n(b) - O que cada linha de cada arquivo representa:\\nlinks.csv   - associa o filme com as empresas de rankings;\\nmovies.csv  - onde estão os filmes;\\nratings.csv - representa a relação da avaliação do usuário com o filme;\\ntags.csv    - combinação das tags aplicadas ao filme pelo usuário.\\n\\n(c)\\nlinks.csv\\n- movieId - int\\n- imdbId  - int\\n- tmdbId  - int\\n\\nmovies.csv\\n- movieId - int\\n- title   - string\\n- genres  - string\\n\\nratings.csv\\n- userId     - int\\n- movieId    - int\\n- rating     - float\\n- timestamp  - int\\n\\ntags.csv\\n- userId     - int\\n- movieId    - int\\n- tag        - string\\n- timestamp  - int\\n\\nQuestão 2:\\n\\nProblemas identificados:\\n\\n(1)  Temos no dataste links, 8 valores faltando dados na coluna \"tmdbId\".\\n\\n(2)Ainda na coluna \"tmdbId\", está definida como tipo float, mas por ser um id, deveria ser declarada como tipo int.\\n\\n(3) Já nos datasets ratings e tags, a coluna timestamp está sem conversão, ela está no formato int.\\n\\n\\n'"
            ]
          },
          "execution_count": 1,
          "metadata": {},
          "output_type": "execute_result"
        }
      ],
      "source": [
        "\"\"\"\n",
        "Autor: Bruna Menezes\n",
        "RA: 082220031\n",
        "Data: 10/03/2025\n",
        "\n",
        "Questão 1:\n",
        "\n",
        "(a) - O conjunto de dados ml-latest-small traz informações sobre gostos de filmes, com avaliações e tags feitas pelos usuários do MovieLens, um serviço de recomendação. \n",
        "Ele tem 100.836 avaliações de filmes com notas de 1 a 5 estrelas, 3683 tags criadas pelos usuários e 9742 filmes avaliados entre 29 de março de 1996 e 24 de setembro de 2018, \n",
        "por 610 pessoas nsse periodo. Foram incluidos apenas usuários com no mínimo 20 filmes avaliados.\n",
        "Os dados estão organizados nos arquivos gerados em 26/09/2018:\n",
        "* links.csv \n",
        "* movies.csv \n",
        "* ratings.csv \n",
        "* tags.csv\n",
        "\n",
        "(b) - O que cada linha de cada arquivo representa:\n",
        "links.csv   - associa o filme com as empresas de rankings;\n",
        "movies.csv  - onde estão os filmes;\n",
        "ratings.csv - representa a relação da avaliação do usuário com o filme;\n",
        "tags.csv    - combinação das tags aplicadas ao filme pelo usuário.\n",
        "\n",
        "(c)\n",
        "links.csv\n",
        "- movieId - int\n",
        "- imdbId  - int\n",
        "- tmdbId  - int\n",
        "\n",
        "movies.csv\n",
        "- movieId - int\n",
        "- title   - string\n",
        "- genres  - string\n",
        "\n",
        "ratings.csv\n",
        "- userId     - int\n",
        "- movieId    - int\n",
        "- rating     - float\n",
        "- timestamp  - int\n",
        "\n",
        "tags.csv\n",
        "- userId     - int\n",
        "- movieId    - int\n",
        "- tag        - string\n",
        "- timestamp  - int\n",
        "\n",
        "Questão 2:\n",
        "\n",
        "Problemas identificados:\n",
        "\n",
        "(1)  Temos no dataste links, 8 valores faltando dados na coluna \"tmdbId\".\n",
        "\n",
        "(2)Ainda na coluna \"tmdbId\", está definida como tipo float, mas por ser um id, deveria ser declarada como tipo int.\n",
        "\n",
        "(3) Já nos datasets ratings e tags, a coluna timestamp está sem conversão, ela está no formato int.\n",
        "\n",
        "\n",
        "\"\"\""
      ]
    },
    {
      "cell_type": "code",
      "execution_count": null,
      "metadata": {
        "colab": {
          "base_uri": "https://localhost:8080/"
        },
        "id": "VD4hQEqdmIYt",
        "outputId": "a7987495-c54c-4c14-ea77-9367ec20643e"
      },
      "outputs": [],
      "source": [
        "import pandas as pd\n",
        "\n",
        "files = {\n",
        "    \"links\": \"/content/links.csv\",\n",
        "    \"movies\": \"/content/movies.csv\",\n",
        "    \"ratings\": \"/content/ratings.csv\",\n",
        "    \"tags\": \"/content/tags.csv\",\n",
        "}\n",
        "\n",
        "dfs = {name: pd.read_csv(path) for name, path in files.items()}\n",
        "\n",
        "print('Verificar informações básicas e estatísticas de cada dataset')\n",
        "info_dict = {name: df.info() for name, df in dfs.items()}\n",
        "summary_dict = {name: df.describe(include=\"all\") for name, df in dfs.items()}\n"
      ]
    },
    {
      "cell_type": "code",
      "execution_count": 13,
      "metadata": {
        "colab": {
          "base_uri": "https://localhost:8080/"
        },
        "id": "UXHPpzQym3wV",
        "outputId": "0374b46e-cfdf-4243-94b8-4a6a62432863"
      },
      "outputs": [
        {
          "name": "stdout",
          "output_type": "stream",
          "text": [
            "Verificar dados ausentes\n",
            "{'links': movieId    0\n",
            "imdbId     0\n",
            "tmdbId     8\n",
            "dtype: int64, 'movies': movieId    0\n",
            "title      0\n",
            "genres     0\n",
            "dtype: int64, 'ratings': userId       0\n",
            "movieId      0\n",
            "rating       0\n",
            "timestamp    0\n",
            "dtype: int64, 'tags': userId       0\n",
            "movieId      0\n",
            "tag          0\n",
            "timestamp    0\n",
            "dtype: int64}\n"
          ]
        }
      ],
      "source": [
        "print('Verificar dados ausentes')\n",
        "missing_values = {name: df.isnull().sum() for name, df in dfs.items()}\n",
        "print(missing_values)"
      ]
    },
    {
      "cell_type": "code",
      "execution_count": 14,
      "metadata": {
        "colab": {
          "base_uri": "https://localhost:8080/"
        },
        "id": "PwiGRhxZnHxl",
        "outputId": "f5bc819b-2844-4c05-b2a0-9240a5aec405"
      },
      "outputs": [
        {
          "name": "stdout",
          "output_type": "stream",
          "text": [
            "Exibir amostras dos dados\n",
            "{'links':    movieId  imdbId   tmdbId\n",
            "0        1  114709    862.0\n",
            "1        2  113497   8844.0\n",
            "2        3  113228  15602.0\n",
            "3        4  114885  31357.0\n",
            "4        5  113041  11862.0, 'movies':    movieId                               title  \\\n",
            "0        1                    Toy Story (1995)   \n",
            "1        2                      Jumanji (1995)   \n",
            "2        3             Grumpier Old Men (1995)   \n",
            "3        4            Waiting to Exhale (1995)   \n",
            "4        5  Father of the Bride Part II (1995)   \n",
            "\n",
            "                                        genres  \n",
            "0  Adventure|Animation|Children|Comedy|Fantasy  \n",
            "1                   Adventure|Children|Fantasy  \n",
            "2                               Comedy|Romance  \n",
            "3                         Comedy|Drama|Romance  \n",
            "4                                       Comedy  , 'ratings':    userId  movieId  rating  timestamp\n",
            "0       1        1     4.0  964982703\n",
            "1       1        3     4.0  964981247\n",
            "2       1        6     4.0  964982224\n",
            "3       1       47     5.0  964983815\n",
            "4       1       50     5.0  964982931, 'tags':    userId  movieId              tag   timestamp\n",
            "0       2    60756            funny  1445714994\n",
            "1       2    60756  Highly quotable  1445714996\n",
            "2       2    60756     will ferrell  1445714992\n",
            "3       2    89774     Boxing story  1445715207\n",
            "4       2    89774              MMA  1445715200} {'links': movieId    0\n",
            "imdbId     0\n",
            "tmdbId     8\n",
            "dtype: int64, 'movies': movieId    0\n",
            "title      0\n",
            "genres     0\n",
            "dtype: int64, 'ratings': userId       0\n",
            "movieId      0\n",
            "rating       0\n",
            "timestamp    0\n",
            "dtype: int64, 'tags': userId       0\n",
            "movieId      0\n",
            "tag          0\n",
            "timestamp    0\n",
            "dtype: int64}\n"
          ]
        }
      ],
      "source": [
        "print('Exibir amostras dos dados')\n",
        "samples = {name: df.head() for name, df in dfs.items()}\n",
        "print(samples, missing_values)"
      ]
    },
    {
      "cell_type": "code",
      "execution_count": 18,
      "metadata": {
        "id": "v8aInEicnOzI"
      },
      "outputs": [],
      "source": [
        "# Corrigir valores ausentes em 'tmdbId'\n",
        "dfs[\"links\"][\"tmdbId\"] = dfs[\"links\"][\"tmdbId\"].fillna(-1).astype(\"int64\")\n",
        "\n",
        "# Converter 'timestamp' para datetime nos datasets 'ratings' e 'tags'\n",
        "dfs[\"ratings\"][\"timestamp\"] = pd.to_datetime(dfs[\"ratings\"][\"timestamp\"], unit='s')\n",
        "dfs[\"tags\"][\"timestamp\"] = pd.to_datetime(dfs[\"tags\"][\"timestamp\"], unit='s')"
      ]
    },
    {
      "cell_type": "code",
      "execution_count": 21,
      "metadata": {
        "colab": {
          "base_uri": "https://localhost:8080/"
        },
        "id": "wjCvqeAhnaxc",
        "outputId": "854b4ba8-1a84-4b8c-a2c3-4faa6bbb34c0"
      },
      "outputs": [
        {
          "name": "stdout",
          "output_type": "stream",
          "text": [
            "<class 'pandas.core.frame.DataFrame'>\n",
            "RangeIndex: 9742 entries, 0 to 9741\n",
            "Data columns (total 3 columns):\n",
            " #   Column   Non-Null Count  Dtype\n",
            "---  ------   --------------  -----\n",
            " 0   movieId  9742 non-null   int64\n",
            " 1   imdbId   9742 non-null   int64\n",
            " 2   tmdbId   9742 non-null   int64\n",
            "dtypes: int64(3)\n",
            "memory usage: 228.5 KB\n"
          ]
        },
        {
          "data": {
            "text/plain": [
              "(None,\n",
              "    userId  movieId  rating           timestamp\n",
              " 0       1        1     4.0 2000-07-30 18:45:03\n",
              " 1       1        3     4.0 2000-07-30 18:20:47\n",
              " 2       1        6     4.0 2000-07-30 18:37:04\n",
              " 3       1       47     5.0 2000-07-30 19:03:35\n",
              " 4       1       50     5.0 2000-07-30 18:48:51,\n",
              "    userId  movieId              tag           timestamp\n",
              " 0       2    60756            funny 2015-10-24 19:29:54\n",
              " 1       2    60756  Highly quotable 2015-10-24 19:29:56\n",
              " 2       2    60756     will ferrell 2015-10-24 19:29:52\n",
              " 3       2    89774     Boxing story 2015-10-24 19:33:27\n",
              " 4       2    89774              MMA 2015-10-24 19:33:20)"
            ]
          },
          "execution_count": 21,
          "metadata": {},
          "output_type": "execute_result"
        }
      ],
      "source": [
        "# Verificar se as correções foram aplicadas corretamente\n",
        "dfs[\"links\"].info(), dfs[\"ratings\"].head(), dfs[\"tags\"].head()"
      ]
    }
  ],
  "metadata": {
    "colab": {
      "provenance": []
    },
    "kernelspec": {
      "display_name": "Python 3",
      "name": "python3"
    },
    "language_info": {
      "codemirror_mode": {
        "name": "ipython",
        "version": 3
      },
      "file_extension": ".py",
      "mimetype": "text/x-python",
      "name": "python",
      "nbconvert_exporter": "python",
      "pygments_lexer": "ipython3",
      "version": "3.11.9"
    }
  },
  "nbformat": 4,
  "nbformat_minor": 0
}
